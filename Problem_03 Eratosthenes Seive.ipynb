{
 "cells": [
  {
   "cell_type": "markdown",
   "metadata": {},
   "source": [
    "### Problem-03 Eratosthenes Seive"
   ]
  },
  {
   "cell_type": "markdown",
   "metadata": {},
   "source": [
    "#### Logic"
   ]
  },
  {
   "cell_type": "markdown",
   "metadata": {},
   "source": [
    "The Sieve of Eratosthenes is an algorithm used to generate all prime numbers smaller than N. The method is to take increasingly larger prime numbers, and mark their multiples as composite.\n",
    "\n",
    "For example, to find all primes less than 100, we would first mark [4, 6, 8, ...] (multiples of two), then [6, 9, 12, ...] (multiples of three), and so on. Once we have done this for all primes less than N, the unmarked numbers that remain will be prime.\n"
   ]
  },
  {
   "cell_type": "markdown",
   "metadata": {},
   "source": [
    "#### Method 1 : Brute Force"
   ]
  },
  {
   "cell_type": "markdown",
   "metadata": {},
   "source": [
    "Step 1 - Create a list of consecutive integers from 2 to n: (2, 3, 4, …, n).\n",
    "\n",
    "Step 2 - Initially, let p equal 2, the first prime number.\n",
    "\n",
    "Step 3 - Starting from p2, count up in increments of p and mark each of these numbers greater\n",
    "          than or equal to p2 itself in the list. These numbers will be p(p+1), p(p+2), p(p+3), etc..\n",
    "\n",
    "Step 4 - Find the first number greater than p in the list that is not marked. If there was no such number, stop.\n",
    "          Otherwise, let p now equal this number (which is the next prime), and repeat from step 3.\n"
   ]
  },
  {
   "cell_type": "code",
   "execution_count": 13,
   "metadata": {},
   "outputs": [],
   "source": [
    "def prime_eratosthenes(upper_range_limit):\n",
    "    list_prime = []\n",
    "    prime_list = []\n",
    "    for i in range(2, upper_range_limit+1):\n",
    "        if i not in list_prime:\n",
    "            prime_list.append(i)\n",
    "            for j in range(i*i, upper_range_limit+1, i):\n",
    "                list_prime.append(j)\n",
    "    return prime_list"
   ]
  },
  {
   "cell_type": "markdown",
   "metadata": {},
   "source": [
    "#### Checking Outputs"
   ]
  },
  {
   "cell_type": "code",
   "execution_count": 21,
   "metadata": {},
   "outputs": [
    {
     "name": "stdout",
     "output_type": "stream",
     "text": [
      "699 ms ± 1.56 ms per loop (mean ± std. dev. of 7 runs, 1 loop each)\n"
     ]
    }
   ],
   "source": [
    "%timeit prime_eratosthenes(10000)"
   ]
  },
  {
   "cell_type": "markdown",
   "metadata": {},
   "source": [
    "#### Method 2 : Using Heap to reduce time complexity to nlogn"
   ]
  },
  {
   "cell_type": "code",
   "execution_count": 23,
   "metadata": {},
   "outputs": [],
   "source": [
    "import heapq\n",
    "\n",
    "\n",
    "def primes(n):\n",
    "    composite = []\n",
    "    i = 2\n",
    "    \n",
    "    while (i <= n):\n",
    "        if composite and i == composite[0][0]:\n",
    "            while composite[0][0] == i:\n",
    "                multiple, p = heapq.heappop(composite)\n",
    "                heapq.heappush(composite, [multiple + p, p])\n",
    "        else:\n",
    "            heapq.heappush(composite, [i**2, i])\n",
    "            yield i\n",
    "        i += 1\n",
    "            \n",
    "            "
   ]
  },
  {
   "cell_type": "code",
   "execution_count": 28,
   "metadata": {},
   "outputs": [
    {
     "name": "stdout",
     "output_type": "stream",
     "text": [
      "14 ms ± 10.6 µs per loop (mean ± std. dev. of 7 runs, 100 loops each)\n"
     ]
    }
   ],
   "source": [
    "%timeit list(primes(10000))"
   ]
  }
 ],
 "metadata": {
  "kernelspec": {
   "display_name": "Python 3",
   "language": "python",
   "name": "python3"
  },
  "language_info": {
   "codemirror_mode": {
    "name": "ipython",
    "version": 3
   },
   "file_extension": ".py",
   "mimetype": "text/x-python",
   "name": "python",
   "nbconvert_exporter": "python",
   "pygments_lexer": "ipython3",
   "version": "3.8.3"
  }
 },
 "nbformat": 4,
 "nbformat_minor": 4
}
