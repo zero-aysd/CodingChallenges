{
 "cells": [
  {
   "cell_type": "markdown",
   "metadata": {},
   "source": [
    "### Problem Statement - Given the root of a binary tree, count the number of unival subtrees."
   ]
  },
  {
   "cell_type": "markdown",
   "metadata": {},
   "source": [
    "#### Method : Traverse the tree in bottom up manner. For every subtree visited, return true if subtree rooted under it is single valued and increment count. So the idea is to use count as a reference parameter in recursive calls and use returned values to find out if left and right subtrees are single valued or not."
   ]
  },
  {
   "cell_type": "markdown",
   "metadata": {},
   "source": [
    "#### Code"
   ]
  },
  {
   "cell_type": "code",
   "execution_count": 1,
   "metadata": {},
   "outputs": [],
   "source": [
    "#defining the stucture \n",
    "\n",
    "class Node:\n",
    "    def __init__(self, value, left=None, right=None):\n",
    "        self.val = value\n",
    "        self.left = left\n",
    "        self.right = right"
   ]
  },
  {
   "cell_type": "code",
   "execution_count": 3,
   "metadata": {},
   "outputs": [],
   "source": [
    "#Counting sub_trees\n",
    "\n",
    "def count_sub_tree(root, count):\n",
    "    if root is None:\n",
    "        return True\n",
    "    \n",
    "    left = count_sub_tree(root.left, count)\n",
    "    right = count_sub_tree(root.right, count)\n",
    "    \n",
    "    #checking root value and child values\n",
    "    \n",
    "    if left == False or right == False:\n",
    "        return False\n",
    "    if root.left and root.val != root.left.val:\n",
    "        return False\n",
    "    if root.right and root.val != root.right.val:\n",
    "        return False\n",
    "    \n",
    "    # if the root value matches with both the children then this case is reached and we increment the count\n",
    "    count[0] += 1\n",
    "    return True\n",
    "\n",
    "def count_tree(root):\n",
    "    count = [0]\n",
    "    \n",
    "    count_sub_tree(root, count)\n",
    "    return count[0]  \n",
    "        "
   ]
  },
  {
   "cell_type": "markdown",
   "metadata": {},
   "source": [
    "#### Checking outputs"
   ]
  },
  {
   "cell_type": "code",
   "execution_count": 5,
   "metadata": {},
   "outputs": [
    {
     "name": "stdout",
     "output_type": "stream",
     "text": [
      "No. of unival subtrees:  5\n"
     ]
    }
   ],
   "source": [
    "root = Node(0, Node(1), Node(0, Node(1, Node(1), Node(1)), Node(0)))\n",
    "\n",
    "print('No. of unival subtrees: ', count_tree(root))"
   ]
  }
 ],
 "metadata": {
  "kernelspec": {
   "display_name": "Python 3",
   "language": "python",
   "name": "python3"
  },
  "language_info": {
   "codemirror_mode": {
    "name": "ipython",
    "version": 3
   },
   "file_extension": ".py",
   "mimetype": "text/x-python",
   "name": "python",
   "nbconvert_exporter": "python",
   "pygments_lexer": "ipython3",
   "version": "3.8.3"
  }
 },
 "nbformat": 4,
 "nbformat_minor": 4
}
