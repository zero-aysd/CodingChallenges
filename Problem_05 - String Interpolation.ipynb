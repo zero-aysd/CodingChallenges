{
 "cells": [
  {
   "cell_type": "markdown",
   "metadata": {},
   "source": [
    "###  String Interpolation"
   ]
  },
  {
   "cell_type": "markdown",
   "metadata": {},
   "source": [
    "Given a string with repeated characters, rearrange the string so that no two adjacent characters are the same. If this is not possible, return None.\n",
    "\n",
    "For example, given \"aaabbc\", you could return \"ababac\". Given \"aaab\", return None"
   ]
  },
  {
   "cell_type": "markdown",
   "metadata": {},
   "source": [
    "#### Solution"
   ]
  },
  {
   "cell_type": "code",
   "execution_count": 15,
   "metadata": {},
   "outputs": [],
   "source": [
    "from collections import Counter\n",
    "from queue import Queue\n",
    "\n",
    "\n",
    "def rearrange(string):\n",
    "    counter = Counter(string) #initializing the counter\n",
    "    \n",
    "    string_items = sorted(counter.items(), key=lambda x : x[1], reverse=True)\n",
    "    \n",
    "    string_length = len(string)\n",
    "    \n",
    "    # Checking the continuous sequence\n",
    "    \n",
    "    if string_length % 2:\n",
    "        if string_items[0][1] > (string_length // 2) + 1:\n",
    "            return None\n",
    "    else:\n",
    "        if string_items[0][1] > (string_length // 2):\n",
    "            return None\n",
    "        \n",
    "        \n",
    "    # rearranging the string    \n",
    "    q = Queue()\n",
    "    \n",
    "    for item in string_items:\n",
    "        q.put(item)\n",
    "    \n",
    "    new_string = ''\n",
    "    \n",
    "    while not q.empty():\n",
    "        item = q.get()\n",
    "        new_string += item[0]\n",
    "        item =(item[0], item[1] - 1)\n",
    "        if item[1]:\n",
    "            q.put(item)\n",
    "    return new_string"
   ]
  },
  {
   "cell_type": "markdown",
   "metadata": {},
   "source": [
    "####  Checking Outputs"
   ]
  },
  {
   "cell_type": "code",
   "execution_count": 23,
   "metadata": {},
   "outputs": [
    {
     "data": {
      "text/plain": [
       "'abcaba'"
      ]
     },
     "execution_count": 23,
     "metadata": {},
     "output_type": "execute_result"
    }
   ],
   "source": [
    "rearrange(\"aaabbc\")"
   ]
  },
  {
   "cell_type": "code",
   "execution_count": 22,
   "metadata": {},
   "outputs": [
    {
     "name": "stdout",
     "output_type": "stream",
     "text": [
      "None\n"
     ]
    }
   ],
   "source": [
    "print(rearrange(\"aaab\"))"
   ]
  }
 ],
 "metadata": {
  "kernelspec": {
   "display_name": "Python 3",
   "language": "python",
   "name": "python3"
  },
  "language_info": {
   "codemirror_mode": {
    "name": "ipython",
    "version": 3
   },
   "file_extension": ".py",
   "mimetype": "text/x-python",
   "name": "python",
   "nbconvert_exporter": "python",
   "pygments_lexer": "ipython3",
   "version": "3.8.3"
  }
 },
 "nbformat": 4,
 "nbformat_minor": 4
}
