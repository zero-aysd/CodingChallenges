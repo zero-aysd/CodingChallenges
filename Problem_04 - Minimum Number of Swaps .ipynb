{
 "cells": [
  {
   "cell_type": "markdown",
   "metadata": {},
   "source": [
    "###  Problem 04 - Minimum Swapping To Arrange Pairs"
   ]
  },
  {
   "cell_type": "markdown",
   "metadata": {},
   "source": [
    "There are N couples sitting in a row of length 2 * N. They are currently ordered randomly, but would like to rearrange themselves so that each couple's partners can sit side by side.\n",
    "\n",
    "What is the minimum number of swaps necessary for this to happen?"
   ]
  },
  {
   "cell_type": "markdown",
   "metadata": {},
   "source": [
    "#### Solution"
   ]
  },
  {
   "cell_type": "markdown",
   "metadata": {},
   "source": [
    "Suppose the couples are labeled (0, 1), (2, 3), (4, 5), ..., and they are sitting on consecutive couches in the following arrangement: [(0, 4), (1, 3), (2, 5), ...].\n",
    "\n",
    "Then for the first pair, there are two ways to make a swap such that a couple will end up together on the first couch. That is, we can either swap person 4 with person 1, or swap person 0 with person 5.\n",
    "\n",
    "For either option, we have possibly two options for creating a couple on the second couch, and then possibly two options for creating a couple on the third couch, and so on. (We say possibly, because it could be the case that the couch already has a couple sitting on it). So we could recursively go through each of these options, tracking the total number of swaps, and at the end return the minimum"
   ]
  },
  {
   "cell_type": "code",
   "execution_count": 2,
   "metadata": {},
   "outputs": [],
   "source": [
    "def min_swaps(row):\n",
    "    \n",
    "    n = len(row)\n",
    "    \n",
    "    positions  = [0 for i in range(n)]\n",
    "    for i in range(n):\n",
    "        positions[row[i]] = i\n",
    "        \n",
    "    swaps = 0\n",
    "    \n",
    "    for i in range(0, n, 2):\n",
    "        if row[i] // 2 == row[i+1] // 2:\n",
    "            continue\n",
    "        if row[i] % 2 == 0:\n",
    "            partner = positions[row[i] // 2 * 2 + 1]\n",
    "        else:\n",
    "            partner = positions[row[i] // 2 * 2]\n",
    "        \n",
    "        row[i + 1], row[partner] = row[partner], row[i + 1]\n",
    "        swaps += 1\n",
    "        \n",
    "    return swaps\n",
    "        "
   ]
  },
  {
   "cell_type": "code",
   "execution_count": 7,
   "metadata": {},
   "outputs": [],
   "source": [
    "row = [0,4,1,3,2,5]"
   ]
  },
  {
   "cell_type": "code",
   "execution_count": 8,
   "metadata": {},
   "outputs": [
    {
     "name": "stdout",
     "output_type": "stream",
     "text": [
      "2\n"
     ]
    }
   ],
   "source": [
    "print(min_swaps((row)))"
   ]
  }
 ],
 "metadata": {
  "kernelspec": {
   "display_name": "Python 3",
   "language": "python",
   "name": "python3"
  },
  "language_info": {
   "codemirror_mode": {
    "name": "ipython",
    "version": 3
   },
   "file_extension": ".py",
   "mimetype": "text/x-python",
   "name": "python",
   "nbconvert_exporter": "python",
   "pygments_lexer": "ipython3",
   "version": "3.8.3"
  }
 },
 "nbformat": 4,
 "nbformat_minor": 4
}
